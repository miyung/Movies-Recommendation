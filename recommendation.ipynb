{
  "cells": [
    {
      "metadata": {
        "collapsed": true
      },
      "cell_type": "markdown",
      "source": "# Case Study 4.1 - Movies"
    },
    {
      "metadata": {},
      "cell_type": "markdown",
      "source": "<h1 style=\"color:red;\">Note: If you close this notebook at any time, you will have to run all cells again upon re-opening it.</h1>\n\n<h1 style=\"color:red;\">Note: You may get different numerical results running the notebook different times. This is to be expected, you can just report whatever results you get.</h1>"
    },
    {
      "metadata": {},
      "cell_type": "markdown",
      "source": "# BEGINNER PYTHON"
    },
    {
      "metadata": {},
      "cell_type": "markdown",
      "source": "As this is a beginner version, we include a lot of code here to help you along the way.\n\n**First, fill in your identification information below. Then, you only have to type in the answers to the questions we ask you. For the rest of the cells, just Run them by pressing the \"Run\" button above.**"
    },
    {
      "metadata": {},
      "cell_type": "markdown",
      "source": "# Identification Information"
    },
    {
      "metadata": {
        "trusted": true
      },
      "cell_type": "code",
      "source": "# YOUR NAME              = THI MY DUNG NGUYEN\n# YOUR MITX PRO USERNAME = dungnguyen_ivi\n# YOUR MITX PRO E-MAIL   = dungnguyen.ivi@gmail.com",
      "execution_count": 1,
      "outputs": []
    },
    {
      "metadata": {},
      "cell_type": "markdown",
      "source": "# Setup"
    },
    {
      "metadata": {},
      "cell_type": "markdown",
      "source": "Run these cells to install all the packages you need to complete the remainder of the case study. This may take a few minutes, so please be patient."
    },
    {
      "metadata": {
        "trusted": true
      },
      "cell_type": "code",
      "source": "!pip install surprise==0.1",
      "execution_count": 2,
      "outputs": [
        {
          "output_type": "stream",
          "text": "Collecting surprise==0.1\n  Downloading https://files.pythonhosted.org/packages/61/de/e5cba8682201fcf9c3719a6fdda95693468ed061945493dea2dd37c5618b/surprise-0.1-py2.py3-none-any.whl\nCollecting scikit-surprise (from surprise==0.1)\n\u001b[?25l  Downloading https://files.pythonhosted.org/packages/4d/fc/cd4210b247d1dca421c25994740cbbf03c5e980e31881f10eaddf45fdab0/scikit-surprise-1.0.6.tar.gz (3.3MB)\n\u001b[K     |████████████████████████████████| 3.3MB 2.8MB/s eta 0:00:01     |███                             | 307kB 2.8MB/s eta 0:00:02\n\u001b[?25hRequirement already satisfied: joblib>=0.11 in /home/nbuser/anaconda3_501/lib/python3.6/site-packages (from scikit-surprise->surprise==0.1) (0.12.5)\nRequirement already satisfied: numpy>=1.11.2 in /home/nbuser/anaconda3_501/lib/python3.6/site-packages (from scikit-surprise->surprise==0.1) (1.16.2)\nRequirement already satisfied: scipy>=1.0.0 in /home/nbuser/anaconda3_501/lib/python3.6/site-packages (from scikit-surprise->surprise==0.1) (1.1.0)\nRequirement already satisfied: six>=1.10.0 in /home/nbuser/anaconda3_501/lib/python3.6/site-packages (from scikit-surprise->surprise==0.1) (1.11.0)\nBuilding wheels for collected packages: scikit-surprise\n  Building wheel for scikit-surprise (setup.py) ... \u001b[?25ldone\n\u001b[?25h  Stored in directory: /home/nbuser/.cache/pip/wheels/ec/c0/55/3a28eab06b53c220015063ebbdb81213cd3dcbb72c088251ec\nSuccessfully built scikit-surprise\nInstalling collected packages: scikit-surprise, surprise\nSuccessfully installed scikit-surprise-1.0.6 surprise-0.1\n\u001b[33mWARNING: You are using pip version 19.1, however version 19.1.1 is available.\nYou should consider upgrading via the 'pip install --upgrade pip' command.\u001b[0m\n",
          "name": "stdout"
        }
      ]
    },
    {
      "metadata": {},
      "cell_type": "markdown",
      "source": "Now, you must press **Kernel > Restart.** This allows the installation to take effect. Once you see the blue **Connected/Kernel ready** button in the top right, you are good to go. If you don't see that blue indicator, then your kernel may not be working properly. If this happens, try saving your work, closing the notebook and re-opening it."
    },
    {
      "metadata": {},
      "cell_type": "markdown",
      "source": "# Import"
    },
    {
      "metadata": {},
      "cell_type": "markdown",
      "source": "Import the required tools into the notebook."
    },
    {
      "metadata": {
        "trusted": true
      },
      "cell_type": "code",
      "source": "import pandas as pd\nimport numpy as np\nimport matplotlib.pyplot as plt\nfrom math import sqrt\nfrom surprise import Dataset, SVD, NormalPredictor, BaselineOnly, KNNBasic, NMF\nfrom surprise.model_selection import cross_validate, KFold\nprint('Imports successful!')",
      "execution_count": 1,
      "outputs": [
        {
          "output_type": "stream",
          "text": "Imports successful!\n",
          "name": "stdout"
        }
      ]
    },
    {
      "metadata": {
        "trusted": true
      },
      "cell_type": "code",
      "source": "%matplotlib inline",
      "execution_count": 2,
      "outputs": []
    },
    {
      "metadata": {},
      "cell_type": "markdown",
      "source": "# Data"
    },
    {
      "metadata": {},
      "cell_type": "markdown",
      "source": "Load the MovieLens data. A dialog may pop up saying **\"Dataset ml-100k could not be found. Do you want to download it? [Y/n]\"** Type Y and hit Enter to start the download process."
    },
    {
      "metadata": {
        "trusted": true
      },
      "cell_type": "code",
      "source": "data = Dataset.load_builtin('ml-100k')\nprint('Data load successful!')",
      "execution_count": 3,
      "outputs": [
        {
          "output_type": "stream",
          "text": "Dataset ml-100k could not be found. Do you want to download it? [Y/n] Y\nTrying to download dataset from http://files.grouplens.org/datasets/movielens/ml-100k.zip...\nDone! Dataset ml-100k has been saved to /home/nbuser/.surprise_data/ml-100k\nData load successful!\n",
          "name": "stdout"
        }
      ]
    },
    {
      "metadata": {},
      "cell_type": "markdown",
      "source": "We also want to get a sense of what the data looks like. Let's create a histogram of all the ratings we have in the dataset."
    },
    {
      "metadata": {
        "trusted": true
      },
      "cell_type": "code",
      "source": "# 1. Get the ratings file from the data object\n# This is just a filename that has all the data stored in it\nratings_file = data.ratings_file\n\n# 2. Load that table using pandas, a commmon python data loading tool\n# We set the column names manually here\ncol_names = ['user_id', 'item_id', 'rating', 'timestamp']\nraw_data = pd.read_table(ratings_file, names=col_names)\n\n# 3. Get the rating column\nratings = raw_data.rating\n\n# 4. Generate a bar plot/histogram of that data\nratings.value_counts().sort_index().plot.bar()\n\nprint('Histogram generation successful!')",
      "execution_count": 4,
      "outputs": [
        {
          "output_type": "stream",
          "text": "Histogram generation successful!\n",
          "name": "stdout"
        },
        {
          "output_type": "display_data",
          "data": {
            "image/png": "[encoded data removed]",
            "text/plain": "<Figure size 432x288 with 1 Axes>"
          },
          "metadata": {
            "needs_background": "light"
          }
        }
      ]
    },
    {
      "metadata": {},
      "cell_type": "markdown",
      "source": "<h1 style=\"color:red;\">QUESTION 1: DATA ANALYSIS</h1>"
    },
    {
      "metadata": {},
      "cell_type": "markdown",
      "source": "**Describe the dataset. How many ratings are in the dataset? How would you describe the distribution of ratings? Is there anything else we should observe? Make sure the histogram is visible in the notebook.**"
    },
    {
      "metadata": {},
      "cell_type": "markdown",
      "source": "*Type your response here...*"
    },
    {
      "metadata": {
        "trusted": true
      },
      "cell_type": "code",
      "source": "### Answer to question 1\nnbratings = len(ratings)\nskewness = ratings.skew()\nmean = ratings.mean()\nmedian = ratings.median()\nminrating = ratings.min()\nmaxrating = ratings.max()\nvar = ratings.var()\nstd = sqrt(var)\nq1 = ratings.quantile(0.25)\nq3 = ratings.quantile(0.75)\nnbmovies = len(np.unique(raw_data.item_id))\nnbusers = len(np.unique(raw_data.user_id))\nratings_per_movie = raw_data.groupby('item_id')['rating'].count()\nratings_per_user = raw_data.groupby('user_id')['rating'].count()\n\n\nprint ('There are ' + str(nbratings) + ' ratings in the dataset.')\nprint ('There are ' + str(nbmovies) + ' movies in the dataset.')\nprint ('There are ' + str(nbusers) + ' users in the dataset.')\n\nif skewness > 0:\n    print ('The distribution of ratings is positively skewed.')\nelif skewness < 0:\n    print ('The distribution of ratings is negatively skewed.')\nelse:\n    print ('The distribution of ratings is symmetric, i.e. similar to the normal distribution.')\n    \nprint ('The distribution of ratings has a mean of ' + str(mean) + ', and a median of ' + str(median) + '.')\nprint ('The distribution of ratings has a minimum value of ' + str(minrating) + ', and a maximum value of ' + str(maxrating) + '.')\nprint ('The range of the distribution is ' + str(maxrating - minrating) + '.')\nprint ('The distribution of ratings has a variance of ' + str(var) + ', and a standard deviation of ' + str(std) + '.')\nprint ('The distribution of ratings has an Interquartile range (IQR) of ' + str(q3 - q1) + '.')\n\n# Generate plots for ratings data\nf1 = plt.figure(1)\nplt.boxplot(ratings, 0, 'rs', 0)\nplt.title('Box plot of ratings')\n\nf2 = plt.figure(2)\nplt.plot(ratings_per_movie, 'o', color = 'blue')\nplt.ylabel('Number of ratings per movie')\nplt.xlabel('Item ID')\n\nf3 = plt.figure(3)\nplt.plot(ratings_per_user, 'o', color = 'red')\nplt.ylabel('Number of ratings per user')\nplt.xlabel('User ID')\n\nplt.show()",
      "execution_count": 5,
      "outputs": [
        {
          "output_type": "stream",
          "text": "There are 100000 ratings in the dataset.\nThere are 1682 movies in the dataset.\nThere are 943 users in the dataset.\nThe distribution of ratings is negatively skewed.\nThe distribution of ratings has a mean of 3.52986, and a median of 4.0.\nThe distribution of ratings has a minimum value of 1, and a maximum value of 5.\nThe range of the distribution is 4.\nThe distribution of ratings has a variance of 1.267141051810097, and a standard deviation of 1.125673599144129.\nThe distribution of ratings has an Interquartile range (IQR) of 1.0.\n",
          "name": "stdout"
        },
        {
          "output_type": "display_data",
          "data": {
            "image/png": "[encoded data removed]",
            "text/plain": "<Figure size 432x288 with 1 Axes>"
          },
          "metadata": {
            "needs_background": "light"
          }
        },
        {
          "output_type": "display_data",
          "data": {
            "image/png": "[encoded data removed]",
            "text/plain": "<Figure size 432x288 with 1 Axes>"
          },
          "metadata": {
            "needs_background": "light"
          }
        },
        {
          "output_type": "display_data",
          "data": {
            "image/png": "[encoded data removed]",
            "text/plain": "<Figure size 432x288 with 1 Axes>"
          },
          "metadata": {
            "needs_background": "light"
          }
        }
      ]
    },
    {
      "metadata": {},
      "cell_type": "markdown",
      "source": "# Model 1: Random"
    },
    {
      "metadata": {
        "trusted": true
      },
      "cell_type": "code",
      "source": "# Create model object\nmodel_random = NormalPredictor()\nprint('Model creation successful!')",
      "execution_count": 6,
      "outputs": [
        {
          "output_type": "stream",
          "text": "Model creation successful!\n",
          "name": "stdout"
        }
      ]
    },
    {
      "metadata": {
        "trusted": true
      },
      "cell_type": "code",
      "source": "# Train on data using cross-validation with k=5 folds, measuring the RMSE\nmodel_random_results = cross_validate(model_random, data, measures=['RMSE'], cv=5, verbose=True)\nprint('Model training successful!')",
      "execution_count": 7,
      "outputs": [
        {
          "output_type": "stream",
          "text": "Evaluating RMSE of algorithm NormalPredictor on 5 split(s).\n\n                  Fold 1  Fold 2  Fold 3  Fold 4  Fold 5  Mean    Std     \nRMSE (testset)    1.5245  1.5206  1.5223  1.5130  1.5275  1.5215  0.0049  \nFit time          0.19    0.21    0.19    0.31    0.37    0.25    0.07    \nTest time         0.23    0.29    0.24    0.29    0.36    0.28    0.05    \nModel training successful!\n",
          "name": "stdout"
        }
      ]
    },
    {
      "metadata": {},
      "cell_type": "markdown",
      "source": "# Model 2: User-Based Collaborative Filtering"
    },
    {
      "metadata": {
        "trusted": true
      },
      "cell_type": "code",
      "source": "# Create model object\nmodel_user = KNNBasic(sim_options={'user_based': True})\nprint('Model creation successful!')",
      "execution_count": 8,
      "outputs": [
        {
          "output_type": "stream",
          "text": "Model creation successful!\n",
          "name": "stdout"
        }
      ]
    },
    {
      "metadata": {
        "trusted": true
      },
      "cell_type": "code",
      "source": "# Train on data using cross-validation with k=5 folds, measuring the RMSE\n# Note, this may have a lot of print output\n# You can set verbose=False to prevent this from happening\nmodel_user_results = cross_validate(model_user, data, measures=['RMSE'], cv=5, verbose=True)\nprint('Model training successful!')",
      "execution_count": 9,
      "outputs": [
        {
          "output_type": "stream",
          "text": "Computing the msd similarity matrix...\nDone computing similarity matrix.\nComputing the msd similarity matrix...\nDone computing similarity matrix.\nComputing the msd similarity matrix...\nDone computing similarity matrix.\nComputing the msd similarity matrix...\nDone computing similarity matrix.\nComputing the msd similarity matrix...\nDone computing similarity matrix.\nEvaluating RMSE of algorithm KNNBasic on 5 split(s).\n\n                  Fold 1  Fold 2  Fold 3  Fold 4  Fold 5  Mean    Std     \nRMSE (testset)    0.9847  0.9829  0.9758  0.9754  0.9732  0.9784  0.0045  \nFit time          0.49    0.47    0.71    0.99    0.69    0.67    0.19    \nTest time         5.97    6.25    8.64    6.84    7.32    7.00    0.94    \nModel training successful!\n",
          "name": "stdout"
        }
      ]
    },
    {
      "metadata": {},
      "cell_type": "markdown",
      "source": "# Model 3: Item-Based Collaborative Filtering"
    },
    {
      "metadata": {
        "trusted": true
      },
      "cell_type": "code",
      "source": "# Create model object\nmodel_item = KNNBasic(sim_options={'user_based': False})\nprint('Model creation successful!')",
      "execution_count": 10,
      "outputs": [
        {
          "output_type": "stream",
          "text": "Model creation successful!\n",
          "name": "stdout"
        }
      ]
    },
    {
      "metadata": {
        "trusted": true
      },
      "cell_type": "code",
      "source": "# Train on data using cross-validation with k=5 folds, measuring the RMSE\n# Note, this may have a lot of print output\n# You can set verbose=False to prevent this from happening\nmodel_item_results = cross_validate(model_item, data, measures=['RMSE'], cv=5, verbose=True)\nprint('Model training successful!')",
      "execution_count": 11,
      "outputs": [
        {
          "output_type": "stream",
          "text": "Computing the msd similarity matrix...\nDone computing similarity matrix.\nComputing the msd similarity matrix...\nDone computing similarity matrix.\nComputing the msd similarity matrix...\nDone computing similarity matrix.\nComputing the msd similarity matrix...\nDone computing similarity matrix.\nComputing the msd similarity matrix...\nDone computing similarity matrix.\nEvaluating RMSE of algorithm KNNBasic on 5 split(s).\n\n                  Fold 1  Fold 2  Fold 3  Fold 4  Fold 5  Mean    Std     \nRMSE (testset)    0.9721  0.9745  0.9776  0.9790  0.9692  0.9745  0.0036  \nFit time          1.00    0.96    1.02    1.16    3.25    1.48    0.89    \nTest time         9.19    6.84    6.90    10.10   8.81    8.37    1.29    \nModel training successful!\n",
          "name": "stdout"
        }
      ]
    },
    {
      "metadata": {},
      "cell_type": "markdown",
      "source": "<h1 style=\"color:red;\">QUESTION 2: COLLABORATIVE FILTERING MODELS</h1>"
    },
    {
      "metadata": {},
      "cell_type": "markdown",
      "source": "**Compare the results from the user-user and item-item models. How do they compare to each other? How do they compare to our original \"random\" model? Can you provide any intuition as to why the results came out the way they did?**"
    },
    {
      "metadata": {},
      "cell_type": "markdown",
      "source": "The result of the item-based model is slightly better than the result of the user-based model since the mean RMSE of the item-item model is 0.9745 which is slightly smaller than the mean RMSE of 0.9784 of the user-user model. However, the time consumption of the item-item model is longer compared to the user-user model regarding both fit time and test time.\nThe reason why item-item model is better than user-user model can be because we have many popular movies that have been rated more often, therefore the model has better similarity scores, leading to a better result.\n\nCompare to the original random model, the collaborative filtering models give us the better results with lower RMSEs (random model has a RMSE of 1.5215 on average which is larger than the RMSEs of the CF models)."
    },
    {
      "metadata": {},
      "cell_type": "markdown",
      "source": "# Model 4: Matrix Factorization"
    },
    {
      "metadata": {
        "trusted": true
      },
      "cell_type": "code",
      "source": "# Create model object\nmodel_matrix = SVD()\nprint('Model creation successful!')",
      "execution_count": 12,
      "outputs": [
        {
          "output_type": "stream",
          "text": "Model creation successful!\n",
          "name": "stdout"
        }
      ]
    },
    {
      "metadata": {
        "trusted": true
      },
      "cell_type": "code",
      "source": "# Train on data using cross-validation with k=5 folds, measuring the RMSE\n# Note, this may take some time (2-3 minutes) to train, so please be patient\nmodel_matrix_results = cross_validate(model_matrix, data, measures=['RMSE'], cv=5, verbose=True)\nprint('Model training successful!')",
      "execution_count": 13,
      "outputs": [
        {
          "output_type": "stream",
          "text": "Evaluating RMSE of algorithm SVD on 5 split(s).\n\n                  Fold 1  Fold 2  Fold 3  Fold 4  Fold 5  Mean    Std     \nRMSE (testset)    0.9297  0.9373  0.9449  0.9363  0.9349  0.9366  0.0049  \nFit time          7.92    8.36    8.96    10.06   7.53    8.57    0.89    \nTest time         0.34    0.40    0.46    0.35    0.41    0.39    0.04    \nModel training successful!\n",
          "name": "stdout"
        }
      ]
    },
    {
      "metadata": {},
      "cell_type": "markdown",
      "source": "<h1 style=\"color:red;\">QUESTION 3: MATRIX FACTORIZATION MODEL</h1>"
    },
    {
      "metadata": {},
      "cell_type": "markdown",
      "source": "**The matrix factorization model is different from the collaborative filtering models. Briefly describe this difference. Also, compare the RMSE again. Does it improve? Can you offer any reasoning as to why that might be?**"
    },
    {
      "metadata": {},
      "cell_type": "markdown",
      "source": "The collaborative filtering (CF) models use the user-item interation matrix to calculate users' similarities or items' similarities by taking the inner products of rows or columns, while the matrix factorization model decomposes the user-item interaction matrix into 2 lower dimensionality rectangular matrices (low-rank matrix factorization), one is user matrix representing the relationship between users and latent factors and the other one is item matrix indicating the similarity between items and latent factors, then calculate the similarities by inner products of latent user factors and latent item factors.\n\nThe RMSE of Matrix factorization model, which is 0.9366 on average, is lower than the RMSEs of the CF models. Thus, there is an improvement. Additionally, the test time is less compared to the test times of the CF models, but the fit time is longer."
    },
    {
      "metadata": {},
      "cell_type": "markdown",
      "source": "# Precision and Recall @ `k`"
    },
    {
      "metadata": {},
      "cell_type": "markdown",
      "source": "We now want to compute the precision and recall for 2 values of `k`: 5 and 10. We have provided some code here to help you do that."
    },
    {
      "metadata": {},
      "cell_type": "markdown",
      "source": "First, we define a function that takes in some predictions, a value of `k` and a threshold parameter. This code is adapted from [here](http://surprise.readthedocs.io/en/stable/FAQ.html?highlight=precision#how-to-compute-precision-k-and-recall-k). **Make sure you run this cell.**"
    },
    {
      "metadata": {
        "trusted": true
      },
      "cell_type": "code",
      "source": "def precision_recall_at_k(predictions, k=10, threshold=3.5):\n    '''Return precision and recall at k metrics for each user.'''\n\n    # First map the predictions to each user.\n    user_est_true = dict()\n    for uid, _, true_r, est, _ in predictions:\n        current = user_est_true.get(uid, list())\n        current.append((est, true_r))\n        user_est_true[uid] = current\n\n    precisions = dict()\n    recalls = dict()\n    for uid, user_ratings in user_est_true.items():\n\n        # Sort user ratings by estimated value\n        user_ratings.sort(key=lambda x: x[0], reverse=True)\n\n        # Number of relevant items\n        n_rel = sum((true_r >= threshold) for (_, true_r) in user_ratings)\n\n        # Number of recommended items in top k\n        n_rec_k = sum((est >= threshold) for (est, _) in user_ratings[:k])\n\n        # Number of relevant and recommended items in top k\n        n_rel_and_rec_k = sum(((true_r >= threshold) and (est >= threshold))\n                              for (est, true_r) in user_ratings[:k])\n\n        # Precision@K: Proportion of recommended items that are relevant\n        precisions[uid] = n_rel_and_rec_k / n_rec_k if n_rec_k != 0 else 1\n\n        # Recall@K: Proportion of relevant items that are recommended\n        recalls[uid] = n_rel_and_rec_k / n_rel if n_rel != 0 else 1\n\n    return precisions, recalls\n\nprint('Function creation successful!')",
      "execution_count": 14,
      "outputs": [
        {
          "output_type": "stream",
          "text": "Function creation successful!\n",
          "name": "stdout"
        }
      ]
    },
    {
      "metadata": {},
      "cell_type": "markdown",
      "source": "Next, we compute the precision and recall at `k` = 5 and 10 for each of our 4 models. We use 5-fold cross validation again to average the results across the entire dataseat.\n\nPlease note that this will take some time to compute."
    },
    {
      "metadata": {},
      "cell_type": "markdown",
      "source": "<h1 style=\"color:red;\">QUESTION 4: PRECISION/RECALL</h1>"
    },
    {
      "metadata": {},
      "cell_type": "markdown",
      "source": "**Compute the precision and recall, for each of the 4 models, at `k` = 5 and 10. This is 2 x 2 x 4 = 16 numerical values. Do you note anything interesting about these values? Anything differerent from the RMSE values you computed above?**"
    },
    {
      "metadata": {},
      "cell_type": "markdown",
      "source": "There is one interesting point that comparing the F1 scores, which is the harmonic mean of Precision and Recall, between 4 models, the User-user CF model turns out to perform better than the other models at both k = 5 and 10. \nComparing only the Precision, the Item-item CF model performs better than the other models at both k = 5 and 10.\n\nThis resut is different than the result we had by comparing the RMSEs of 4 models, which showed that Matrix factorization model is the best one out of 4 models."
    },
    {
      "metadata": {
        "trusted": true
      },
      "cell_type": "code",
      "source": "# Make list of k values\nK = [5, 10]\n\n# Make list of models\nmodels = [model_random, model_user, model_item, model_matrix]\n\n# Create k-fold cross validation object\nkf = KFold(n_splits=5)\n\nfor k in K:\n    for model in models:\n        print(f'>>> k={k}, model={model.__class__.__name__}')\n        # Run folder and take average\n        p = []\n        r = []\n        for trainset, testset in kf.split(data):\n            model.fit(trainset)\n            predictions = model.test(testset, verbose=False)\n            precisions, recalls = precision_recall_at_k(predictions, k=k, threshold=3.5)\n\n            # Precision and recall can then be averaged over all users\n            p.append(sum(prec for prec in precisions.values()) / len(precisions))\n            r.append(sum(rec for rec in recalls.values()) / len(recalls))\n        \n        print('>>> precision:', round(sum(p) / len(p), 3))\n        print('>>> recall  :', round(sum(r) / len(r), 3))\n        print('>>> f1 score:', round(2 * ((sum(p) / len(p)) * (sum(r) / len(r))) / ((sum(p) / len(p)) + (sum(r) / len(r))), 3))\n        print('\\n')\n\nprint('Precision and recall computation successful!')",
      "execution_count": 15,
      "outputs": [
        {
          "output_type": "stream",
          "text": ">>> k=5, model=NormalPredictor\n>>> precision: 0.59\n>>> recall  : 0.343\n>>> f1 score: 0.434\n\n\n>>> k=5, model=KNNBasic\nComputing the msd similarity matrix...\nDone computing similarity matrix.\nComputing the msd similarity matrix...\nDone computing similarity matrix.\nComputing the msd similarity matrix...\nDone computing similarity matrix.\nComputing the msd similarity matrix...\nDone computing similarity matrix.\nComputing the msd similarity matrix...\nDone computing similarity matrix.\n>>> precision: 0.765\n>>> recall  : 0.456\n>>> f1 score: 0.572\n\n\n>>> k=5, model=KNNBasic\nComputing the msd similarity matrix...\nDone computing similarity matrix.\nComputing the msd similarity matrix...\nDone computing similarity matrix.\nComputing the msd similarity matrix...\nDone computing similarity matrix.\nComputing the msd similarity matrix...\nDone computing similarity matrix.\nComputing the msd similarity matrix...\nDone computing similarity matrix.\n>>> precision: 0.818\n>>> recall  : 0.392\n>>> f1 score: 0.53\n\n\n>>> k=5, model=SVD\n>>> precision: 0.786\n>>> recall  : 0.431\n>>> f1 score: 0.557\n\n\n>>> k=10, model=NormalPredictor\n>>> precision: 0.586\n>>> recall  : 0.431\n>>> f1 score: 0.497\n\n\n>>> k=10, model=KNNBasic\nComputing the msd similarity matrix...\nDone computing similarity matrix.\nComputing the msd similarity matrix...\nDone computing similarity matrix.\nComputing the msd similarity matrix...\nDone computing similarity matrix.\nComputing the msd similarity matrix...\nDone computing similarity matrix.\nComputing the msd similarity matrix...\nDone computing similarity matrix.\n>>> precision: 0.734\n>>> recall  : 0.592\n>>> f1 score: 0.656\n\n\n>>> k=10, model=KNNBasic\nComputing the msd similarity matrix...\nDone computing similarity matrix.\nComputing the msd similarity matrix...\nDone computing similarity matrix.\nComputing the msd similarity matrix...\nDone computing similarity matrix.\nComputing the msd similarity matrix...\nDone computing similarity matrix.\nComputing the msd similarity matrix...\nDone computing similarity matrix.\n>>> precision: 0.791\n>>> recall  : 0.534\n>>> f1 score: 0.638\n\n\n>>> k=10, model=SVD\n>>> precision: 0.762\n>>> recall  : 0.563\n>>> f1 score: 0.648\n\n\nPrecision and recall computation successful!\n",
          "name": "stdout"
        }
      ]
    },
    {
      "metadata": {},
      "cell_type": "markdown",
      "source": "#  Top-`n` Predictions"
    },
    {
      "metadata": {},
      "cell_type": "markdown",
      "source": "Finally, we can see what some of the actual movie ratings are for particular users, as outputs of our model."
    },
    {
      "metadata": {},
      "cell_type": "markdown",
      "source": "Again, we define a helpful function."
    },
    {
      "metadata": {
        "trusted": true
      },
      "cell_type": "code",
      "source": "def get_top_n(predictions, n=5):\n    '''Return the top-N recommendation for each user from a set of predictions.\n\n    Args:\n        predictions(list of Prediction objects): The list of predictions, as\n            returned by the test method of an algorithm.\n        n(int): The number of recommendation to output for each user. Default\n            is 10.\n\n    Returns:\n    A dict where keys are user (raw) ids and values are lists of tuples:\n        [(raw item id, rating estimation), ...] of size n.\n    '''\n\n    # First map the predictions to each user.\n    top_n = dict()\n    for uid, iid, true_r, est, _ in predictions:\n        current = top_n.get(uid, [])\n        current.append((iid, est))\n        top_n[uid] = current\n\n    # Then sort the predictions for each user and retrieve the k highest ones.\n    for uid, user_ratings in top_n.items():\n        user_ratings.sort(key=lambda x: x[1], reverse=True)\n        top_n[uid] = user_ratings[:n]\n\n    return top_n\n\nprint('Function creation successful!')",
      "execution_count": 16,
      "outputs": [
        {
          "output_type": "stream",
          "text": "Function creation successful!\n",
          "name": "stdout"
        }
      ]
    },
    {
      "metadata": {},
      "cell_type": "markdown",
      "source": "Then, we call this function on each of our models, first training on **all** the data we have available, then predicting on the remaining, missing data. We use `n`=5 here, but you can pick any reasonable value of `n` you would like.\n\nThis may take some time to compute, so be patient."
    },
    {
      "metadata": {
        "trusted": true
      },
      "cell_type": "code",
      "source": "trainset = data.build_full_trainset()\ntestset = trainset.build_anti_testset()\nprint('Trainset and testset creation successful!')",
      "execution_count": 17,
      "outputs": [
        {
          "output_type": "stream",
          "text": "Trainset and testset creation successful!\n",
          "name": "stdout"
        }
      ]
    },
    {
      "metadata": {},
      "cell_type": "markdown",
      "source": "<h1 style=\"color:red;\">QUESTION 5: TOP N PREDICTIONS</h1>"
    },
    {
      "metadata": {},
      "cell_type": "markdown",
      "source": "**Do the top n predictions that you received make sense? What is the rating value (1-5) of these predictions? How could you use these predictions in the real-world if you were trying to build a generic content recommender system for a company?**"
    },
    {
      "metadata": {},
      "cell_type": "markdown",
      "source": "The ratings of top-n recommendations for the user id 186 are as follow (n is chosen to be equal to 5):\n\n-Random model: 5 for top 5 recommendations\n\n-User-user CF mdel: 5 for top 5 recommendations\n\n-Item-item CF model: 4.07 for the 1st, 4.05 for the 2nd, 3.99 for the 3rd, 3.98 for the 4th, 3.97 for the 5th\n\n-Matrix factorization model: 4.75 for the 1st, 4.74 for the 2nd, 4.7 for the 3rd, 4.69 for the 4th, 4.58 for the 5th\n\nIn summary, each model recommends different items with different ratings.\n\nIn the real world, we can use the recommendation techniques to recommend the customers the company's products that are similar to their preferences. In this way, we can increase the company's profit and collect more data regarding the customers' preferences."
    },
    {
      "metadata": {
        "trusted": true
      },
      "cell_type": "code",
      "source": "for model in models:\n    model.fit(trainset)\n    predictions = model.test(testset)\n    top_n = get_top_n(predictions, n=5)\n    # Print the first one\n    user = list(top_n.keys())[1]\n    print(f'model: {model}, {user}: {top_n[user]}')\n\nprint('Top N computation successful!')",
      "execution_count": 18,
      "outputs": [
        {
          "output_type": "stream",
          "text": "model: <surprise.prediction_algorithms.random_pred.NormalPredictor object at 0x7fdaac108c50>, 186: [('265', 5), ('451', 5), ('222', 5), ('144', 5), ('16', 5)]\nComputing the msd similarity matrix...\nDone computing similarity matrix.\nmodel: <surprise.prediction_algorithms.knns.KNNBasic object at 0x7fdaac1a2390>, 186: [('1189', 5), ('1500', 5), ('814', 5), ('1536', 5), ('1599', 5)]\nComputing the msd similarity matrix...\nDone computing similarity matrix.\nmodel: <surprise.prediction_algorithms.knns.KNNBasic object at 0x7fdaac1a2240>, 186: [('1674', 4.06896551724138), ('686', 4.051848353096544), ('732', 3.9958623794626216), ('5', 3.9862571454892457), ('1597', 3.9743534464180468)]\nmodel: <surprise.prediction_algorithms.matrix_factorization.SVD object at 0x7fdaac1a2080>, 186: [('169', 4.749630527724771), ('318', 4.737875604777075), ('515', 4.701155516716556), ('496', 4.694099239802762), ('174', 4.5841515082852835)]\nTop N computation successful!\n",
          "name": "stdout"
        }
      ]
    },
    {
      "metadata": {},
      "cell_type": "markdown",
      "source": "<hr>"
    },
    {
      "metadata": {},
      "cell_type": "markdown",
      "source": "Great job! Now, make sure you check out the **Conclusion** section of the [instruction manual](https://courses.edx.org/asset-v1:MITxPRO+DSx+2T2018+type@asset+block@4.1_instruction_manual.html) to wrap up this case study properly."
    }
  ],
  "metadata": {
    "kernelspec": {
      "name": "python36",
      "display_name": "Python 3.6",
      "language": "python"
    },
    "language_info": {
      "mimetype": "text/x-python",
      "nbconvert_exporter": "python",
      "name": "python",
      "pygments_lexer": "ipython3",
      "version": "3.6.6",
      "file_extension": ".py",
      "codemirror_mode": {
        "version": 3,
        "name": "ipython"
      }
    }
  },
  "nbformat": 4,
  "nbformat_minor": 2
}